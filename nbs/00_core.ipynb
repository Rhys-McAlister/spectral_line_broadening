{
 "cells": [
  {
   "cell_type": "markdown",
   "metadata": {},
   "source": [
    "# core\n",
    "\n",
    "> Fill in a module description here"
   ]
  },
  {
   "cell_type": "code",
   "execution_count": null,
   "metadata": {},
   "outputs": [],
   "source": [
    "#| default_exp core"
   ]
  },
  {
   "cell_type": "code",
   "execution_count": null,
   "metadata": {},
   "outputs": [],
   "source": [
    "#| hide\n",
    "from nbdev.showdoc import *"
   ]
  },
  {
   "cell_type": "code",
   "execution_count": null,
   "metadata": {},
   "outputs": [],
   "source": [
    "#| export\n",
    "def foo(): pass"
   ]
  },
  {
   "cell_type": "code",
   "execution_count": null,
   "metadata": {},
   "outputs": [],
   "source": [
    "#| hide\n",
    "import nbdev; nbdev.nbdev_export()"
   ]
  },
  {
   "cell_type": "code",
   "execution_count": null,
   "metadata": {},
   "outputs": [],
   "source": [
    "#| export\n",
    "import ast\n",
    "from ast import List\n",
    "import pandas as pd\n",
    "import numpy as np\n",
    "import torch\n",
    "import matplotlib.pyplot as plt\n",
    "from tqdm import tqdm\n"
   ]
  },
  {
   "cell_type": "code",
   "execution_count": null,
   "metadata": {},
   "outputs": [],
   "source": [
    "#| export\n",
    "def boltzmann(energies):\n",
    "    q=list()\n",
    "    e_offset=min(energies)\n",
    "    for i in energies:\n",
    "        q.append(np.exp((i-e_offset)/(8.31446261815324/1000*298.15)))\n",
    "    q_sum=sum(q)\n",
    "    dist=list()\n",
    "    for i in q:\n",
    "        prob=i/q_sum\n",
    "        dist.append(prob)\n",
    "    return dist\n",
    "\n",
    "\n",
    "def set_x_spacing(plot_range_max, plot_range_min, wave_number_spacing):\n",
    "    remainder=(plot_range_max-plot_range_min)%wave_number_spacing\n",
    "    if remainder==0:\n",
    "        npoints=int((plot_range_max-plot_range_min)//wave_number_spacing+1)\n",
    "    if remainder!=0:\n",
    "        npoints=int((plot_range_max-plot_range_min)//wave_number_spacing+2)\n",
    "    xs=np.linspace(plot_range_min,plot_range_max,npoints)\n",
    "    return xs\n",
    "\n",
    "\n",
    "def fixed_var_spectrum(frequencies,intensities,xs,fixed_var):\n",
    "    ys=np.empty((0,len(xs)))\n",
    "    for i in range(len(frequencies)):\n",
    "        y=intensities[i]/(2*np.pi*fixed_var)**0.5*np.exp(-(xs-frequencies[i])**2/(2*fixed_var))\n",
    "        if frequencies[i]==0.00:\n",
    "            y=y*0.0\n",
    "        y=np.expand_dims(y,axis=0)\n",
    "        ys=np.append(ys,y,axis=0)\n",
    "    spectrum_data=ys.sum(axis=0)\n",
    "    return spectrum_data\n",
    "\n",
    "\n",
    "def norm_integration(spectra_sum, xs, norm_range_min, norm_range_max):\n",
    "    norm_factor=sum([j for i,j in enumerate(spectra_sum) if xs[i]>=norm_range_min and xs[i]<norm_range_max])\n",
    "    norm_spectrum=spectra_sum/norm_factor\n",
    "    return norm_spectrum\n",
    "\n",
    "def pytorch_model_spectrum(frequencies,intensities,xs,model):\n",
    "    peaks=torch.zeros([len(frequencies),1801])\n",
    "    for e,i in enumerate(frequencies):\n",
    "        peaks[e,:int(i//2-199)]=1\n",
    "        if i < 4000: peaks[e,int(i//2-199)]=i%2/2\n",
    "    weights=torch.tensor(intensities)\n",
    "    peaks=model(peaks)\n",
    "    peaks=torch.exp(peaks)\n",
    "    weights=torch.unsqueeze(weights,dim=1)\n",
    "    peaks=torch.mul(peaks,weights)\n",
    "    output=torch.sum(peaks,dim=0)\n",
    "    return output.data.numpy()\n",
    "\n",
    "def load_pytorch_model(model_path):\n",
    "    state=torch.load(model_path,map_location=torch.device('cpu'))\n",
    "    w0=state['state_dict']['peaknn.0.weight']\n",
    "    b0=state['state_dict']['peaknn.0.bias']\n",
    "    w2=state['state_dict']['peaknn.2.weight']\n",
    "    b2=state['state_dict']['peaknn.2.bias']\n",
    "    torch.set_default_dtype(torch.double)\n",
    "    L0=torch.nn.Linear(1801,2200)\n",
    "    L0.weight=torch.nn.Parameter(w0)\n",
    "    L0.bias=torch.nn.Parameter(b0)\n",
    "    L1=torch.nn.ReLU()\n",
    "    L2=torch.nn.Linear(2200,1801)\n",
    "    L2.weight=torch.nn.Parameter(w2)\n",
    "    L2.bias=torch.nn.Parameter(b2)\n",
    "    model=torch.nn.Sequential(L0,L1,L2)\n",
    "    for param in model.parameters():\n",
    "        param.requires_grad=False\n",
    "    return model"
   ]
  },
  {
   "cell_type": "code",
   "execution_count": null,
   "metadata": {},
   "outputs": [],
   "source": [
    "#| export\n",
    "def generate_spectrums(df: pd.DataFrame) -> list[np.array]:\n",
    "\n",
    "    xs = set_x_spacing(4000, 400, 2)\n",
    "    model = load_pytorch_model('../data/model19.pt')\n",
    "    outputs = []\n",
    "    for i in tqdm(range(0, len(df[\"Intensity\"])), desc=\"Generating Spectrums\"):\n",
    "        freq = np.array(df[\"ScaledFreq [cm-1]\"][i])\n",
    "        intensity = np.array(df[\"Intensity\"][i])\n",
    "\n",
    "        output = pytorch_model_spectrum(freq,intensity,xs)\n",
    "        outputs.append(output)\n",
    "    return outputs"
   ]
  },
  {
   "cell_type": "code",
   "execution_count": null,
   "metadata": {},
   "outputs": [],
   "source": [
    "#| export\n",
    "def prepare_dataset(df: pd.DataFrame) -> pd.DataFrame:\n",
    "    \"\"\"\n",
    "    Fix columns and datatypes so the freq and intensity values can be accessed.\n",
    "    \"\"\"\n",
    "    df['RawFreq [cm-1]'] =df['RawFreq [cm-1]'].str.replace('\"', '')\n",
    "\n",
    "    df['RawFreq [cm-1]'] =df['RawFreq [cm-1]'].apply(ast.literal_eval)\n",
    "    df['ScaledFreq [cm-1]'] =df['ScaledFreq [cm-1]'].apply(ast.literal_eval)\n",
    "    df['Intensity'] =df['Intensity'].apply(ast.literal_eval)\n",
    "    df =df.map(lambda x: [float(i) for i in x] if isinstance(x, list) else x)\n",
    "    return df"
   ]
  },
  {
   "cell_type": "code",
   "execution_count": null,
   "metadata": {},
   "outputs": [
    {
     "name": "stderr",
     "output_type": "stream",
     "text": [
      "Generating Spectrums:   2%|▏         | 60/2743 [00:05<04:23, 10.19it/s]\n"
     ]
    },
    {
     "ename": "KeyboardInterrupt",
     "evalue": "",
     "output_type": "error",
     "traceback": [
      "\u001b[0;31m---------------------------------------------------------------------------\u001b[0m",
      "\u001b[0;31mKeyboardInterrupt\u001b[0m                         Traceback (most recent call last)",
      "\u001b[1;32m/home/rhysmcalister/gh/spectral_line_broadening/nbs/00_core.ipynb Cell 10\u001b[0m line \u001b[0;36m2\n\u001b[1;32m     <a href='vscode-notebook-cell://wsl%2Bubuntu/home/rhysmcalister/gh/spectral_line_broadening/nbs/00_core.ipynb#Y121sdnNjb2RlLXJlbW90ZQ%3D%3D?line=23'>24</a>\u001b[0m     processed_df \u001b[39m=\u001b[39m pd\u001b[39m.\u001b[39mconcat([processed_df, df[\u001b[39m\"\u001b[39m\u001b[39mIUPAC_chemname\u001b[39m\u001b[39m\"\u001b[39m]], axis\u001b[39m=\u001b[39m\u001b[39m1\u001b[39m)    \n\u001b[1;32m     <a href='vscode-notebook-cell://wsl%2Bubuntu/home/rhysmcalister/gh/spectral_line_broadening/nbs/00_core.ipynb#Y121sdnNjb2RlLXJlbW90ZQ%3D%3D?line=24'>25</a>\u001b[0m     \u001b[39mreturn\u001b[39;00m processed_df\n\u001b[0;32m---> <a href='vscode-notebook-cell://wsl%2Bubuntu/home/rhysmcalister/gh/spectral_line_broadening/nbs/00_core.ipynb#Y121sdnNjb2RlLXJlbW90ZQ%3D%3D?line=26'>27</a>\u001b[0m processed_df \u001b[39m=\u001b[39m prepare_processed_dataset(df)\n",
      "\u001b[1;32m/home/rhysmcalister/gh/spectral_line_broadening/nbs/00_core.ipynb Cell 10\u001b[0m line \u001b[0;36m1\n\u001b[1;32m      <a href='vscode-notebook-cell://wsl%2Bubuntu/home/rhysmcalister/gh/spectral_line_broadening/nbs/00_core.ipynb#Y121sdnNjb2RlLXJlbW90ZQ%3D%3D?line=0'>1</a>\u001b[0m \u001b[39mdef\u001b[39;00m \u001b[39mprepare_processed_dataset\u001b[39m(df: pd\u001b[39m.\u001b[39mDataFrame) \u001b[39m-\u001b[39m\u001b[39m>\u001b[39m pd\u001b[39m.\u001b[39mDataFrame:\n\u001b[1;32m      <a href='vscode-notebook-cell://wsl%2Bubuntu/home/rhysmcalister/gh/spectral_line_broadening/nbs/00_core.ipynb#Y121sdnNjb2RlLXJlbW90ZQ%3D%3D?line=1'>2</a>\u001b[0m \u001b[39m    \u001b[39m\u001b[39m\"\"\"\u001b[39;00m\n\u001b[1;32m      <a href='vscode-notebook-cell://wsl%2Bubuntu/home/rhysmcalister/gh/spectral_line_broadening/nbs/00_core.ipynb#Y121sdnNjb2RlLXJlbW90ZQ%3D%3D?line=2'>3</a>\u001b[0m \u001b[39m    Generates final processed dataset with broaden spectrum values and a column for the associated SMILES string.\u001b[39;00m\n\u001b[1;32m      <a href='vscode-notebook-cell://wsl%2Bubuntu/home/rhysmcalister/gh/spectral_line_broadening/nbs/00_core.ipynb#Y121sdnNjb2RlLXJlbW90ZQ%3D%3D?line=3'>4</a>\u001b[0m \n\u001b[0;32m   (...)\u001b[0m\n\u001b[1;32m     <a href='vscode-notebook-cell://wsl%2Bubuntu/home/rhysmcalister/gh/spectral_line_broadening/nbs/00_core.ipynb#Y121sdnNjb2RlLXJlbW90ZQ%3D%3D?line=9'>10</a>\u001b[0m \n\u001b[1;32m     <a href='vscode-notebook-cell://wsl%2Bubuntu/home/rhysmcalister/gh/spectral_line_broadening/nbs/00_core.ipynb#Y121sdnNjb2RlLXJlbW90ZQ%3D%3D?line=10'>11</a>\u001b[0m \u001b[39m    \"\"\"\u001b[39;00m\n\u001b[0;32m---> <a href='vscode-notebook-cell://wsl%2Bubuntu/home/rhysmcalister/gh/spectral_line_broadening/nbs/00_core.ipynb#Y121sdnNjb2RlLXJlbW90ZQ%3D%3D?line=12'>13</a>\u001b[0m     outputs \u001b[39m=\u001b[39m generate_spectrums(df)\n\u001b[1;32m     <a href='vscode-notebook-cell://wsl%2Bubuntu/home/rhysmcalister/gh/spectral_line_broadening/nbs/00_core.ipynb#Y121sdnNjb2RlLXJlbW90ZQ%3D%3D?line=13'>14</a>\u001b[0m     \u001b[39m# Create a list of column names\u001b[39;00m\n\u001b[1;32m     <a href='vscode-notebook-cell://wsl%2Bubuntu/home/rhysmcalister/gh/spectral_line_broadening/nbs/00_core.ipynb#Y121sdnNjb2RlLXJlbW90ZQ%3D%3D?line=14'>15</a>\u001b[0m     cols \u001b[39m=\u001b[39m \u001b[39mlist\u001b[39m(\u001b[39mrange\u001b[39m(\u001b[39m4000\u001b[39m, \u001b[39m398\u001b[39m, \u001b[39m-\u001b[39m\u001b[39m2\u001b[39m))\n",
      "\u001b[1;32m/home/rhysmcalister/gh/spectral_line_broadening/nbs/00_core.ipynb Cell 10\u001b[0m line \u001b[0;36m1\n\u001b[1;32m      <a href='vscode-notebook-cell://wsl%2Bubuntu/home/rhysmcalister/gh/spectral_line_broadening/nbs/00_core.ipynb#Y121sdnNjb2RlLXJlbW90ZQ%3D%3D?line=6'>7</a>\u001b[0m     freq \u001b[39m=\u001b[39m np\u001b[39m.\u001b[39marray(df[\u001b[39m\"\u001b[39m\u001b[39mScaledFreq [cm-1]\u001b[39m\u001b[39m\"\u001b[39m][i])\n\u001b[1;32m      <a href='vscode-notebook-cell://wsl%2Bubuntu/home/rhysmcalister/gh/spectral_line_broadening/nbs/00_core.ipynb#Y121sdnNjb2RlLXJlbW90ZQ%3D%3D?line=7'>8</a>\u001b[0m     intensity \u001b[39m=\u001b[39m np\u001b[39m.\u001b[39marray(df[\u001b[39m\"\u001b[39m\u001b[39mIntensity\u001b[39m\u001b[39m\"\u001b[39m][i])\n\u001b[0;32m---> <a href='vscode-notebook-cell://wsl%2Bubuntu/home/rhysmcalister/gh/spectral_line_broadening/nbs/00_core.ipynb#Y121sdnNjb2RlLXJlbW90ZQ%3D%3D?line=9'>10</a>\u001b[0m     output \u001b[39m=\u001b[39m pytorch_model_spectrum(freq,intensity,xs)\n\u001b[1;32m     <a href='vscode-notebook-cell://wsl%2Bubuntu/home/rhysmcalister/gh/spectral_line_broadening/nbs/00_core.ipynb#Y121sdnNjb2RlLXJlbW90ZQ%3D%3D?line=10'>11</a>\u001b[0m     outputs\u001b[39m.\u001b[39mappend(output)\n\u001b[1;32m     <a href='vscode-notebook-cell://wsl%2Bubuntu/home/rhysmcalister/gh/spectral_line_broadening/nbs/00_core.ipynb#Y121sdnNjb2RlLXJlbW90ZQ%3D%3D?line=11'>12</a>\u001b[0m \u001b[39mreturn\u001b[39;00m outputs\n",
      "\u001b[1;32m/home/rhysmcalister/gh/spectral_line_broadening/nbs/00_core.ipynb Cell 10\u001b[0m line \u001b[0;36m4\n\u001b[1;32m     <a href='vscode-notebook-cell://wsl%2Bubuntu/home/rhysmcalister/gh/spectral_line_broadening/nbs/00_core.ipynb#Y121sdnNjb2RlLXJlbW90ZQ%3D%3D?line=40'>41</a>\u001b[0m \u001b[39mdef\u001b[39;00m \u001b[39mpytorch_model_spectrum\u001b[39m(frequencies,intensities,xs):\n\u001b[0;32m---> <a href='vscode-notebook-cell://wsl%2Bubuntu/home/rhysmcalister/gh/spectral_line_broadening/nbs/00_core.ipynb#Y121sdnNjb2RlLXJlbW90ZQ%3D%3D?line=41'>42</a>\u001b[0m     model \u001b[39m=\u001b[39m load_pytorch_model(\u001b[39m'\u001b[39;49m\u001b[39m../data/model19.pt\u001b[39;49m\u001b[39m'\u001b[39;49m)\n\u001b[1;32m     <a href='vscode-notebook-cell://wsl%2Bubuntu/home/rhysmcalister/gh/spectral_line_broadening/nbs/00_core.ipynb#Y121sdnNjb2RlLXJlbW90ZQ%3D%3D?line=42'>43</a>\u001b[0m     peaks\u001b[39m=\u001b[39mtorch\u001b[39m.\u001b[39mzeros([\u001b[39mlen\u001b[39m(frequencies),\u001b[39m1801\u001b[39m])\n\u001b[1;32m     <a href='vscode-notebook-cell://wsl%2Bubuntu/home/rhysmcalister/gh/spectral_line_broadening/nbs/00_core.ipynb#Y121sdnNjb2RlLXJlbW90ZQ%3D%3D?line=43'>44</a>\u001b[0m     \u001b[39mfor\u001b[39;00m e,i \u001b[39min\u001b[39;00m \u001b[39menumerate\u001b[39m(frequencies):\n",
      "\u001b[1;32m/home/rhysmcalister/gh/spectral_line_broadening/nbs/00_core.ipynb Cell 10\u001b[0m line \u001b[0;36m5\n\u001b[1;32m     <a href='vscode-notebook-cell://wsl%2Bubuntu/home/rhysmcalister/gh/spectral_line_broadening/nbs/00_core.ipynb#Y121sdnNjb2RlLXJlbW90ZQ%3D%3D?line=54'>55</a>\u001b[0m \u001b[39mdef\u001b[39;00m \u001b[39mload_pytorch_model\u001b[39m(model_path):\n\u001b[0;32m---> <a href='vscode-notebook-cell://wsl%2Bubuntu/home/rhysmcalister/gh/spectral_line_broadening/nbs/00_core.ipynb#Y121sdnNjb2RlLXJlbW90ZQ%3D%3D?line=55'>56</a>\u001b[0m     state\u001b[39m=\u001b[39mtorch\u001b[39m.\u001b[39;49mload(model_path,map_location\u001b[39m=\u001b[39;49mtorch\u001b[39m.\u001b[39;49mdevice(\u001b[39m'\u001b[39;49m\u001b[39mcpu\u001b[39;49m\u001b[39m'\u001b[39;49m))\n\u001b[1;32m     <a href='vscode-notebook-cell://wsl%2Bubuntu/home/rhysmcalister/gh/spectral_line_broadening/nbs/00_core.ipynb#Y121sdnNjb2RlLXJlbW90ZQ%3D%3D?line=56'>57</a>\u001b[0m     w0\u001b[39m=\u001b[39mstate[\u001b[39m'\u001b[39m\u001b[39mstate_dict\u001b[39m\u001b[39m'\u001b[39m][\u001b[39m'\u001b[39m\u001b[39mpeaknn.0.weight\u001b[39m\u001b[39m'\u001b[39m]\n\u001b[1;32m     <a href='vscode-notebook-cell://wsl%2Bubuntu/home/rhysmcalister/gh/spectral_line_broadening/nbs/00_core.ipynb#Y121sdnNjb2RlLXJlbW90ZQ%3D%3D?line=57'>58</a>\u001b[0m     b0\u001b[39m=\u001b[39mstate[\u001b[39m'\u001b[39m\u001b[39mstate_dict\u001b[39m\u001b[39m'\u001b[39m][\u001b[39m'\u001b[39m\u001b[39mpeaknn.0.bias\u001b[39m\u001b[39m'\u001b[39m]\n",
      "File \u001b[0;32m~/miniforge3/envs/spec/lib/python3.11/site-packages/torch/serialization.py:1028\u001b[0m, in \u001b[0;36mload\u001b[0;34m(f, map_location, pickle_module, weights_only, mmap, **pickle_load_args)\u001b[0m\n\u001b[1;32m   1026\u001b[0m     \u001b[39mexcept\u001b[39;00m \u001b[39mRuntimeError\u001b[39;00m \u001b[39mas\u001b[39;00m e:\n\u001b[1;32m   1027\u001b[0m         \u001b[39mraise\u001b[39;00m pickle\u001b[39m.\u001b[39mUnpicklingError(UNSAFE_MESSAGE \u001b[39m+\u001b[39m \u001b[39mstr\u001b[39m(e)) \u001b[39mfrom\u001b[39;00m \u001b[39mNone\u001b[39;00m\n\u001b[0;32m-> 1028\u001b[0m \u001b[39mreturn\u001b[39;00m _legacy_load(opened_file, map_location, pickle_module, \u001b[39m*\u001b[39;49m\u001b[39m*\u001b[39;49mpickle_load_args)\n",
      "File \u001b[0;32m~/miniforge3/envs/spec/lib/python3.11/site-packages/torch/serialization.py:1264\u001b[0m, in \u001b[0;36m_legacy_load\u001b[0;34m(f, map_location, pickle_module, **pickle_load_args)\u001b[0m\n\u001b[1;32m   1262\u001b[0m \u001b[39massert\u001b[39;00m key \u001b[39min\u001b[39;00m deserialized_objects\n\u001b[1;32m   1263\u001b[0m typed_storage \u001b[39m=\u001b[39m deserialized_objects[key]\n\u001b[0;32m-> 1264\u001b[0m typed_storage\u001b[39m.\u001b[39;49m_untyped_storage\u001b[39m.\u001b[39;49m_set_from_file(\n\u001b[1;32m   1265\u001b[0m     f, offset, f_should_read_directly,\n\u001b[1;32m   1266\u001b[0m     torch\u001b[39m.\u001b[39;49m_utils\u001b[39m.\u001b[39;49m_element_size(typed_storage\u001b[39m.\u001b[39;49mdtype))\n\u001b[1;32m   1267\u001b[0m \u001b[39mif\u001b[39;00m offset \u001b[39mis\u001b[39;00m \u001b[39mnot\u001b[39;00m \u001b[39mNone\u001b[39;00m:\n\u001b[1;32m   1268\u001b[0m     offset \u001b[39m=\u001b[39m f\u001b[39m.\u001b[39mtell()\n",
      "\u001b[0;31mKeyboardInterrupt\u001b[0m: "
     ]
    }
   ],
   "source": [
    "#| export\n",
    "def prepare_processed_dataset(df: pd.DataFrame) -> pd.DataFrame:\n",
    "    \"\"\"\n",
    "    Generates final processed dataset with broaden spectrum values and a column for the associated SMILES string.\n",
    "\n",
    "    Parameters:\n",
    "        df: DataFrame containing the SMILES strings and the raw frequency and intensity values.\n",
    "\n",
    "    Returns:\n",
    "        DataFrame containing the SMILES strings and the processed spectrum values.\n",
    "\n",
    "    \"\"\"\n",
    "\n",
    "    outputs = generate_spectrums(df)\n",
    "    # Create a list of column names\n",
    "    cols = list(range(4000, 398, -2))\n",
    "\n",
    "    # Create an empty DataFrame with the specified column names\n",
    "    processed_df = pd.DataFrame(columns=cols)\n",
    "\n",
    "    for i, arr in enumerate(outputs):\n",
    "        processed_df.loc[i] = arr\n",
    "\n",
    "    processed_df = pd.concat([processed_df, df[\"SMILES\"]], axis=1)\n",
    "    processed_df = pd.concat([processed_df, df[\"IUPAC_chemname\"]], axis=1)    \n",
    "    return processed_df\n"
   ]
  },
  {
   "cell_type": "code",
   "execution_count": null,
   "metadata": {},
   "outputs": [
    {
     "data": {
      "text/plain": [
       "<BarContainer object of 3 artists>"
      ]
     },
     "execution_count": null,
     "metadata": {},
     "output_type": "execute_result"
    },
    {
     "data": {
      "image/png": "[encoded data removed]",
      "text/plain": [
       "<Figure size 640x480 with 1 Axes>"
      ]
     },
     "metadata": {},
     "output_type": "display_data"
    }
   ],
   "source": [
    "frequencies = np.array([1598.0372406800595, 3682.1786484947465, 3780.8505903567507])\n",
    "intensities = np.array([76.3428, 3.6852, 57.5517])\n",
    "\n",
    "xs = np.arange(400,4002,2)\n",
    "output = pytorch_model_spectrum(frequencies,intensities,xs)\n",
    "\n",
    "plt.plot(xs, output)\n",
    "plt.bar(frequencies, intensities, width=20, color=\"red\")"
   ]
  },
  {
   "cell_type": "code",
   "execution_count": null,
   "metadata": {},
   "outputs": [],
   "source": []
  }
 ],
 "metadata": {
  "kernelspec": {
   "display_name": "python3",
   "language": "python",
   "name": "python3"
  }
 },
 "nbformat": 4,
 "nbformat_minor": 4
}
